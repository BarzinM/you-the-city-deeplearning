{
 "cells": [
  {
   "cell_type": "markdown",
   "metadata": {
    "colab_type": "text",
    "id": "kR-4eNdK6lYS"
   },
   "source": [
    "Deep Learning\n",
    "=============\n",
    "\n",
    "Assignment 3\n",
    "------------\n",
    "\n",
    "Previously in `2_fullyconnected.ipynb`, you trained a logistic regression and a neural network model.\n",
    "\n",
    "The goal of this assignment is to explore regularization techniques."
   ]
  },
  {
   "cell_type": "code",
   "execution_count": 1,
   "metadata": {
    "cellView": "both",
    "colab": {
     "autoexec": {
      "startup": false,
      "wait_interval": 0
     }
    },
    "colab_type": "code",
    "collapsed": true,
    "id": "JLpLa8Jt7Vu4"
   },
   "outputs": [],
   "source": [
    "# These are all the modules we'll be using later. Make sure you can import them\n",
    "# before proceeding further.\n",
    "from __future__ import print_function\n",
    "import numpy as np\n",
    "import tensorflow as tf\n",
    "from six.moves import cPickle as pickle"
   ]
  },
  {
   "cell_type": "markdown",
   "metadata": {
    "colab_type": "text",
    "id": "1HrCK6e17WzV"
   },
   "source": [
    "First reload the data we generated in _notmist.ipynb_."
   ]
  },
  {
   "cell_type": "code",
   "execution_count": 2,
   "metadata": {
    "cellView": "both",
    "colab": {
     "autoexec": {
      "startup": false,
      "wait_interval": 0
     },
     "output_extras": [
      {
       "item_id": 1
      }
     ]
    },
    "colab_type": "code",
    "collapsed": false,
    "executionInfo": {
     "elapsed": 11777,
     "status": "ok",
     "timestamp": 1449849322348,
     "user": {
      "color": "",
      "displayName": "",
      "isAnonymous": false,
      "isMe": true,
      "permissionId": "",
      "photoUrl": "",
      "sessionId": "0",
      "userId": ""
     },
     "user_tz": 480
    },
    "id": "y3-cj1bpmuxc",
    "outputId": "e03576f1-ebbe-4838-c388-f1777bcc9873"
   },
   "outputs": [
    {
     "name": "stdout",
     "output_type": "stream",
     "text": [
      "Training set (200000, 28, 28) (200000,)\n",
      "Validation set (10000, 28, 28) (10000,)\n",
      "Test set (10000, 28, 28) (10000,)\n"
     ]
    }
   ],
   "source": [
    "pickle_file = 'notMNIST.pickle'\n",
    "\n",
    "with open(pickle_file, 'rb') as f:\n",
    "  save = pickle.load(f)\n",
    "  train_dataset = save['train_dataset']\n",
    "  train_labels = save['train_labels']\n",
    "  valid_dataset = save['valid_dataset']\n",
    "  valid_labels = save['valid_labels']\n",
    "  test_dataset = save['test_dataset']\n",
    "  test_labels = save['test_labels']\n",
    "  del save  # hint to help gc free up memory\n",
    "  print('Training set', train_dataset.shape, train_labels.shape)\n",
    "  print('Validation set', valid_dataset.shape, valid_labels.shape)\n",
    "  print('Test set', test_dataset.shape, test_labels.shape)"
   ]
  },
  {
   "cell_type": "markdown",
   "metadata": {
    "colab_type": "text",
    "id": "L7aHrm6nGDMB"
   },
   "source": [
    "Reformat into a shape that's more adapted to the models we're going to train:\n",
    "- data as a flat matrix,\n",
    "- labels as float 1-hot encodings."
   ]
  },
  {
   "cell_type": "code",
   "execution_count": 3,
   "metadata": {
    "cellView": "both",
    "colab": {
     "autoexec": {
      "startup": false,
      "wait_interval": 0
     },
     "output_extras": [
      {
       "item_id": 1
      }
     ]
    },
    "colab_type": "code",
    "collapsed": false,
    "executionInfo": {
     "elapsed": 11728,
     "status": "ok",
     "timestamp": 1449849322356,
     "user": {
      "color": "",
      "displayName": "",
      "isAnonymous": false,
      "isMe": true,
      "permissionId": "",
      "photoUrl": "",
      "sessionId": "0",
      "userId": ""
     },
     "user_tz": 480
    },
    "id": "IRSyYiIIGIzS",
    "outputId": "3f8996ee-3574-4f44-c953-5c8a04636582"
   },
   "outputs": [
    {
     "name": "stdout",
     "output_type": "stream",
     "text": [
      "Training set (200000, 784) (200000, 10)\n",
      "Validation set (10000, 784) (10000, 10)\n",
      "Test set (10000, 784) (10000, 10)\n"
     ]
    }
   ],
   "source": [
    "image_size = 28\n",
    "num_labels = 10\n",
    "\n",
    "def reformat(dataset, labels):\n",
    "  dataset = dataset.reshape((-1, image_size * image_size)).astype(np.float32)\n",
    "  # Map 2 to [0.0, 1.0, 0.0 ...], 3 to [0.0, 0.0, 1.0 ...]\n",
    "  labels = (np.arange(num_labels) == labels[:,None]).astype(np.float32)\n",
    "  return dataset, labels\n",
    "train_dataset, train_labels = reformat(train_dataset, train_labels)\n",
    "valid_dataset, valid_labels = reformat(valid_dataset, valid_labels)\n",
    "test_dataset, test_labels = reformat(test_dataset, test_labels)\n",
    "print('Training set', train_dataset.shape, train_labels.shape)\n",
    "print('Validation set', valid_dataset.shape, valid_labels.shape)\n",
    "print('Test set', test_dataset.shape, test_labels.shape)"
   ]
  },
  {
   "cell_type": "code",
   "execution_count": 4,
   "metadata": {
    "cellView": "both",
    "colab": {
     "autoexec": {
      "startup": false,
      "wait_interval": 0
     }
    },
    "colab_type": "code",
    "collapsed": true,
    "id": "RajPLaL_ZW6w"
   },
   "outputs": [],
   "source": [
    "def accuracy(predictions, labels):\n",
    "  return (100.0 * np.sum(np.argmax(predictions, 1) == np.argmax(labels, 1))\n",
    "          / predictions.shape[0])"
   ]
  },
  {
   "cell_type": "markdown",
   "metadata": {
    "colab_type": "text",
    "id": "sgLbUAQ1CW-1"
   },
   "source": [
    "---\n",
    "Problem 1\n",
    "---------\n",
    "\n",
    "Introduce and tune L2 regularization for both logistic and neural network models. Remember that L2 amounts to adding a penalty on the norm of the weights to the loss. In TensorFlow, you can compute the L2 loss for a tensor `t` using `nn.l2_loss(t)`. The right amount of regularization should improve your validation / test accuracy.\n",
    "\n",
    "---"
   ]
  },
  {
   "cell_type": "code",
   "execution_count": 47,
   "metadata": {
    "collapsed": true
   },
   "outputs": [],
   "source": [
    "batch_size = 128\n",
    "loss_coef = .004\n",
    "\n",
    "graph = tf.Graph()\n",
    "with graph.as_default():\n",
    "\n",
    "  # Input data. For the training data, we use a placeholder that will be fed\n",
    "  # at run time with a training minibatch.\n",
    "  tf_train_dataset = tf.placeholder(tf.float32,\n",
    "                                    shape=(batch_size, image_size * image_size))\n",
    "  tf_train_labels = tf.placeholder(tf.float32, shape=(batch_size, num_labels))\n",
    "  tf_valid_dataset = tf.constant(valid_dataset)\n",
    "  tf_test_dataset = tf.constant(test_dataset)\n",
    "  \n",
    "  # Variables.\n",
    "  weights = tf.Variable(\n",
    "    tf.truncated_normal([image_size * image_size, num_labels]))\n",
    "  biases = tf.Variable(tf.zeros([num_labels]))\n",
    "  \n",
    "  # Training computation.\n",
    "  logits = tf.matmul(tf_train_dataset, weights) + biases\n",
    "  loss = tf.add(tf.reduce_mean(\n",
    "    tf.nn.softmax_cross_entropy_with_logits(logits, tf_train_labels)),loss_coef*tf.nn.l2_loss(weights))\n",
    "  \n",
    "  # Optimizer.\n",
    "  optimizer = tf.train.GradientDescentOptimizer(0.5).minimize(loss)\n",
    "  \n",
    "  # Predictions for the training, validation, and test data.\n",
    "  train_prediction = tf.nn.softmax(logits)\n",
    "  valid_prediction = tf.nn.softmax(\n",
    "    tf.matmul(tf_valid_dataset, weights) + biases)\n",
    "  test_prediction = tf.nn.softmax(tf.matmul(tf_test_dataset, weights) + biases)"
   ]
  },
  {
   "cell_type": "code",
   "execution_count": 154,
   "metadata": {
    "collapsed": false
   },
   "outputs": [
    {
     "name": "stdout",
     "output_type": "stream",
     "text": [
      "Initialized\n",
      "Validation accuracy: 23.9%\n",
      "Validation accuracy: 83.2%\n",
      "Validation accuracy: 87.4%\n",
      "Validation accuracy: 87.8%\n",
      "Validation accuracy: 87.4%\n",
      "Validation accuracy: 88.2%\n",
      "Validation accuracy: 88.0%\n",
      "Test accuracy: 93.7%\n"
     ]
    }
   ],
   "source": [
    "num_steps = 3001\n",
    "\n",
    "with tf.Session(graph=graph) as session:\n",
    "  tf.initialize_all_variables().run()\n",
    "  print(\"Initialized\")\n",
    "  for step in range(num_steps):\n",
    "    # Pick an offset within the training data, which has been randomized.\n",
    "    # Note: we could use better randomization across epochs.\n",
    "    offset = (step * batch_size) % (train_labels.shape[0] - batch_size)\n",
    "    # Generate a minibatch.\n",
    "    batch_data = train_dataset[offset:(offset + batch_size), :]\n",
    "    batch_labels = train_labels[offset:(offset + batch_size), :]\n",
    "    # Prepare a dictionary telling the session where to feed the minibatch.\n",
    "    # The key of the dictionary is the placeholder node of the graph to be fed,\n",
    "    # and the value is the numpy array to feed to it.\n",
    "    feed_dict = {tf_train_dataset : batch_data, tf_train_labels : batch_labels}\n",
    "    _, l, predictions = session.run(\n",
    "      [optimizer, loss, train_prediction], feed_dict=feed_dict)\n",
    "    if (step % 500 == 0):\n",
    "#       print(\"Minibatch loss at step %d: %f\" % (step, l))\n",
    "#       print(\"Minibatch accuracy: %.1f%%\" % accuracy(predictions, batch_labels))\n",
    "      print(\"Validation accuracy: %.1f%%\" % accuracy(\n",
    "        valid_prediction.eval(), valid_labels))\n",
    "  print(\"Test accuracy: %.1f%%\" % accuracy(test_prediction.eval(), test_labels))"
   ]
  },
  {
   "cell_type": "code",
   "execution_count": 6,
   "metadata": {
    "collapsed": true
   },
   "outputs": [],
   "source": [
    "batch_size = 128\n",
    "number_of_hidden_nodes = 1024\n",
    "loss_coef = .0001\n",
    "\n",
    "\n",
    "def generateWeight(shape):\n",
    "    initial = tf.truncated_normal(shape, stddev=.1)\n",
    "    return tf.Variable(initial)\n",
    "\n",
    "\n",
    "def generateBias(shape):\n",
    "    initial = tf.constant(.1, shape=shape)\n",
    "    return tf.Variable(initial)\n",
    "\n",
    "\n",
    "def conv2d(x, w):\n",
    "    return tf.nn.conv2d(x, w, strides=[1, 1, 1, 1], padding='SAME')\n",
    "\n",
    "\n",
    "def maxPool2x2(x):\n",
    "    return tf.nn.max_pool(x, ksize=[1, 2, 2, 1], strides=[1, 2, 2, 1], padding='SAME')\n",
    "\n",
    "graph = tf.Graph()\n",
    "with graph.as_default():\n",
    "\n",
    "    # Input data. For the training data, we use a placeholder that will be fed\n",
    "    # at run time with a training minibatch.\n",
    "    tf_train_dataset = tf.placeholder(tf.float32,\n",
    "                                      shape=(batch_size, image_size * image_size))\n",
    "    tf_train_labels = tf.placeholder(\n",
    "        tf.float32, shape=(batch_size, num_labels))\n",
    "    tf_valid_dataset = tf.constant(valid_dataset)\n",
    "    tf_test_dataset = tf.constant(test_dataset)\n",
    "\n",
    "    # Variables.\n",
    "    weights_1 = generateWeight(\n",
    "        [image_size * image_size, number_of_hidden_nodes])\n",
    "    biases_1 = generateBias([number_of_hidden_nodes])\n",
    "\n",
    "    layer_1 = tf.nn.relu(tf.matmul(tf_train_dataset, weights_1) + biases_1)\n",
    "    loss_1 = loss_coef * tf.nn.l2_loss(weights_1)\n",
    "\n",
    "    weights_2 = generateWeight([number_of_hidden_nodes, num_labels])\n",
    "    biases_2 = generateBias([num_labels])\n",
    "\n",
    "    logits = tf.matmul(layer_1, weights_2) + biases_2\n",
    "    layer_2 = tf.nn.softmax_cross_entropy_with_logits(logits, tf_train_labels)\n",
    "    loss_2 = loss_coef * tf.nn.l2_loss(weights_2)\n",
    "    loss = tf.add(tf.reduce_mean(layer_2), tf.add(loss_1, loss_2))\n",
    "\n",
    "    # Training computation.\n",
    "    # logits = tf.matmul(tf_train_dataset, weights) + biases\n",
    "    # loss = tf.reduce_mean(\n",
    "    #     tf.nn.softmax_cross_entropy_with_logits(logits, tf_train_labels))\n",
    "\n",
    "    # Optimizer.\n",
    "    optimizer = tf.train.GradientDescentOptimizer(0.5).minimize(loss)\n",
    "\n",
    "    # Predictions for the training, validation, and test data.\n",
    "    train_prediction = tf.nn.softmax(logits)\n",
    "    layer_1_valid = tf.nn.relu(\n",
    "        tf.matmul(tf_valid_dataset, weights_1) + biases_1)\n",
    "    valid_logits = tf.matmul(layer_1_valid, weights_2) + biases_2\n",
    "    valid_prediction = tf.nn.softmax(valid_logits)\n",
    "    layer_1_test = tf.nn.relu(tf.matmul(tf_test_dataset, weights_1) + biases_1)\n",
    "    test_logits = tf.matmul(layer_1_test, weights_2) + biases_2\n",
    "    test_prediction = tf.nn.softmax(test_logits)\n"
   ]
  },
  {
   "cell_type": "code",
   "execution_count": 220,
   "metadata": {
    "collapsed": false
   },
   "outputs": [
    {
     "name": "stdout",
     "output_type": "stream",
     "text": [
      "Initialized 0.0001\n",
      "5.5:31.1 | 79.7:82.2 | 81.2:82.9 | 85.9:84.6 | 85.9:85.3 | 89.1:83.0 | 85.9:85.4 | 85.2:86.4 | 80.5:85.1 | 89.8:86.5 | 85.9:87.3 | \n",
      "Test accuracy: 92.7%\n"
     ]
    }
   ],
   "source": [
    "num_steps = 3001\n",
    "\n",
    "with tf.Session(graph=graph) as session:\n",
    "  tf.initialize_all_variables().run()\n",
    "  print(\"Initialized\",loss_coef)\n",
    "  for step in range(num_steps):\n",
    "    # Pick an offset within the training data, which has been randomized.\n",
    "    # Note: we could use better randomization across epochs.\n",
    "    offset = (step * batch_size) % (train_labels.shape[0] - batch_size)\n",
    "    # Generate a minibatch.\n",
    "    batch_data = train_dataset[offset:(offset + batch_size), :]\n",
    "    batch_labels = train_labels[offset:(offset + batch_size), :]\n",
    "    # Prepare a dictionary telling the session where to feed the minibatch.\n",
    "    # The key of the dictionary is the placeholder node of the graph to be fed,\n",
    "    # and the value is the numpy array to feed to it.\n",
    "    feed_dict = {tf_train_dataset : batch_data, tf_train_labels : batch_labels}\n",
    "    _, l, predictions = session.run(\n",
    "      [optimizer, loss, train_prediction], feed_dict=feed_dict)\n",
    "    if (step % 100 == 0):\n",
    "#       print(\"Minibatch loss at step %d: %f\" % (step, l))\n",
    "#       print(\"Minibatch accuracy: %.1f%%\" % accuracy(predictions, batch_labels))\n",
    "#       print(\"Validation accuracy: %.1f%%\" % accuracy(\n",
    "#         valid_prediction.eval(), valid_labels))\n",
    "      print(\"%2.1f:%2.1f\" %(accuracy(predictions, batch_labels),accuracy(valid_prediction.eval(), valid_labels)),end=\" | \")\n",
    "\n",
    "  print(\"\\nTest accuracy: %.1f%%\" % accuracy(test_prediction.eval(), test_labels))"
   ]
  },
  {
   "cell_type": "code",
   "execution_count": 10,
   "metadata": {
    "collapsed": false
   },
   "outputs": [
    {
     "name": "stdout",
     "output_type": "stream",
     "text": [
      "Initialized 0.1\n",
      "14.8:27.7 | 79.7:78.2 | 74.2:77.7 | 72.7:76.5 | 80.5:75.3 | 81.2:77.7 | 70.3:77.0 | 74.2:78.1 | 78.1:78.5 | 82.0:75.9 | 75.0:72.5 | \n",
      "Test accuracy: 78.9%\n",
      "Initialized 0.01\n",
      "12.5:36.4 | 85.2:83.0 | 81.2:81.8 | 85.2:83.5 | 83.6:83.1 | 83.6:83.4 | 79.7:83.7 | 79.7:83.1 | 89.8:83.8 | 87.5:83.6 | 81.2:82.2 | \n",
      "Test accuracy: 89.0%\n",
      "Initialized 0.001\n",
      "10.9:29.0 | 85.2:85.1 | 83.6:85.4 | 89.8:86.6 | 86.7:87.1 | 88.3:87.6 | 85.9:87.7 | 84.4:87.2 | 89.1:87.9 | 90.6:88.1 | 84.4:87.6 | \n",
      "Test accuracy: 93.3%\n",
      "Initialized 0.0001\n",
      "7.0:27.0 | 82.0:84.8 | 82.8:85.4 | 89.1:86.6 | 85.9:86.9 | 86.7:87.7 | 87.5:88.0 | 84.4:87.3 | 88.3:88.3 | 89.8:88.9 | 86.7:88.0 | \n",
      "Test accuracy: 93.9%\n",
      "Initialized 1e-05\n",
      "10.2:28.4 | 81.2:84.8 | 83.6:85.7 | 89.8:86.8 | 85.2:87.1 | 86.7:87.7 | 83.6:86.5 | 85.2:87.2 | 88.3:88.1 | 89.1:89.1 | 87.5:88.3 | \n",
      "Test accuracy: 93.9%\n"
     ]
    }
   ],
   "source": [
    "def trainNetwork(loss_coef,train_size=None):\n",
    "    if train_size is None:\n",
    "        train_size = train_labels.shape[0]\n",
    "    batch_size = 128\n",
    "    number_of_hidden_nodes = 1024\n",
    "\n",
    "\n",
    "\n",
    "    graph = tf.Graph()\n",
    "    with graph.as_default():\n",
    "\n",
    "        # Input data. For the training data, we use a placeholder that will be fed\n",
    "        # at run time with a training minibatch.\n",
    "        tf_train_dataset = tf.placeholder(tf.float32,\n",
    "                                          shape=(batch_size, image_size * image_size))\n",
    "        tf_train_labels = tf.placeholder(\n",
    "            tf.float32, shape=(batch_size, num_labels))\n",
    "        tf_valid_dataset = tf.constant(valid_dataset)\n",
    "        tf_test_dataset = tf.constant(test_dataset)\n",
    "\n",
    "        # Variables.\n",
    "        weights_1 = generateWeight(\n",
    "                [image_size * image_size, number_of_hidden_nodes])\n",
    "        biases_1 = generateBias([number_of_hidden_nodes])\n",
    "\n",
    "        layer_1 = tf.nn.relu(tf.matmul(tf_train_dataset, weights_1) + biases_1)\n",
    "        loss_1 = loss_coef * tf.nn.l2_loss(weights_1)\n",
    "\n",
    "        weights_2 = generateWeight([number_of_hidden_nodes, num_labels])\n",
    "        biases_2 = generateBias([num_labels])\n",
    "\n",
    "        logits = tf.matmul(layer_1, weights_2) + biases_2\n",
    "        layer_2 = tf.nn.softmax_cross_entropy_with_logits(logits, tf_train_labels)\n",
    "        loss_2 = loss_coef * tf.nn.l2_loss(weights_2)\n",
    "        loss = tf.add(tf.reduce_mean(layer_2), tf.add(loss_1, loss_2))\n",
    "\n",
    "        # Training computation.\n",
    "        # logits = tf.matmul(tf_train_dataset, weights) + biases\n",
    "        # loss = tf.reduce_mean(\n",
    "        #     tf.nn.softmax_cross_entropy_with_logits(logits, tf_train_labels))\n",
    "\n",
    "        # Optimizer.\n",
    "        optimizer = tf.train.GradientDescentOptimizer(0.5).minimize(loss)\n",
    "\n",
    "        # Predictions for the training, validation, and test data.\n",
    "        train_prediction = tf.nn.softmax(logits)\n",
    "        layer_1_valid = tf.nn.relu(\n",
    "            tf.matmul(tf_valid_dataset, weights_1) + biases_1)\n",
    "        valid_logits = tf.matmul(layer_1_valid, weights_2) + biases_2\n",
    "        valid_prediction = tf.nn.softmax(valid_logits)\n",
    "        layer_1_test = tf.nn.relu(tf.matmul(tf_test_dataset, weights_1) + biases_1)\n",
    "        test_logits = tf.matmul(layer_1_test, weights_2) + biases_2\n",
    "        test_prediction = tf.nn.softmax(test_logits)\n",
    "\n",
    "    num_steps = 3001\n",
    "\n",
    "    with tf.Session(graph=graph) as session:\n",
    "        tf.initialize_all_variables().run()\n",
    "        print(\"Initialized\",loss_coef)\n",
    "        for step in range(num_steps):\n",
    "            # Pick an offset within the training data, which has been randomized.\n",
    "            # Note: we could use better randomization across epochs.\n",
    "#           offset = (step * batch_size) % (train_labels.shape[0] - batch_size)\n",
    "            offset = (step * batch_size) % (train_size - batch_size)\n",
    "            # Generate a minibatch.\n",
    "            batch_data = train_dataset[offset:(offset + batch_size), :]\n",
    "            batch_labels = train_labels[offset:(offset + batch_size), :]\n",
    "            # Prepare a dictionary telling the session where to feed the minibatch.\n",
    "            # The key of the dictionary is the placeholder node of the graph to be fed,\n",
    "            # and the value is the numpy array to feed to it.\n",
    "            feed_dict = {tf_train_dataset : batch_data, tf_train_labels : batch_labels}\n",
    "            _, l, predictions = session.run(\n",
    "              [optimizer, loss, train_prediction], feed_dict=feed_dict)\n",
    "            if (step % 300 == 0):\n",
    "                print(\"%2.1f:%2.1f\" %(accuracy(predictions, batch_labels),accuracy(valid_prediction.eval(), valid_labels)),end=\" | \")\n",
    "\n",
    "        print(\"\\nTest accuracy: %.1f%%\" % accuracy(test_prediction.eval(), test_labels))\n",
    "\n",
    "for loss_coef in [1e-1,1e-2,1e-3,1e-4,1e-5]:\n",
    "    trainNetwork(loss_coef)\n"
   ]
  },
  {
   "cell_type": "markdown",
   "metadata": {
    "colab_type": "text",
    "id": "na8xX2yHZzNF"
   },
   "source": [
    "---\n",
    "Problem 2\n",
    "---------\n",
    "Let's demonstrate an extreme case of overfitting. Restrict your training data to just a few batches. What happens?\n",
    "\n",
    "---"
   ]
  },
  {
   "cell_type": "code",
   "execution_count": 9,
   "metadata": {
    "collapsed": false
   },
   "outputs": [
    {
     "name": "stdout",
     "output_type": "stream",
     "text": [
      "Initialized 0\n",
      "7.8:33.1 | 100.0:74.5 | 100.0:74.8 | 100.0:74.9 | 100.0:75.0 | 100.0:75.1 | 100.0:75.1 | 100.0:75.2 | 100.0:75.2 | 100.0:75.2 | 100.0:75.2 | \n",
      "Test accuracy: 82.3%\n"
     ]
    }
   ],
   "source": [
    "trainNetwork(0,128*3)"
   ]
  },
  {
   "cell_type": "markdown",
   "metadata": {
    "colab_type": "text",
    "id": "ww3SCBUdlkRc"
   },
   "source": [
    "---\n",
    "Problem 3\n",
    "---------\n",
    "Introduce Dropout on the hidden layer of the neural network. Remember: Dropout should only be introduced during training, not evaluation, otherwise your evaluation results would be stochastic as well. TensorFlow provides `nn.dropout()` for that, but you have to make sure it's only inserted during training.\n",
    "\n",
    "What happens to our extreme overfitting case?\n",
    "\n",
    "---"
   ]
  },
  {
   "cell_type": "code",
   "execution_count": 22,
   "metadata": {
    "collapsed": false
   },
   "outputs": [
    {
     "name": "stdout",
     "output_type": "stream",
     "text": [
      "Initialized 0.0001\n",
      "5.5:8.7 | 11.7:10.0 | \n",
      "Test accuracy: 10.0%\n",
      "it took 8.389643669128418\n"
     ]
    }
   ],
   "source": [
    "from time import time\n",
    "def trainNetwork(loss_coef,train_size=None):\n",
    "    if train_size is None:\n",
    "        train_size = train_labels.shape[0]\n",
    "    batch_size = 128\n",
    "    number_of_hidden_nodes = 1024\n",
    "\n",
    "\n",
    "\n",
    "    graph = tf.Graph()\n",
    "    with graph.as_default():\n",
    "\n",
    "        # Input data. For the training data, we use a placeholder that will be fed\n",
    "        # at run time with a training minibatch.\n",
    "        tf_train_dataset = tf.placeholder(tf.float32,\n",
    "                                          shape=(None, image_size * image_size))\n",
    "        tf_train_labels = tf.placeholder(\n",
    "            tf.float32, shape=(None, num_labels))\n",
    "        tf_valid_dataset = tf.constant(valid_dataset)\n",
    "        tf_test_dataset = tf.constant(test_dataset)\n",
    "\n",
    "        # Variables.\n",
    "        weights_1 = generateWeight(\n",
    "                [image_size * image_size, number_of_hidden_nodes])\n",
    "        biases_1 = generateBias([number_of_hidden_nodes])\n",
    "\n",
    "        layer_1 = tf.nn.relu(tf.matmul(tf_train_dataset, weights_1) + biases_1)\n",
    "        keep_prob = tf.placeholder(tf.float32)\n",
    "        layer_1_drop = tf.nn.dropout(layer_1,keep_prob)\n",
    "        loss_1 = loss_coef * tf.nn.l2_loss(weights_1)\n",
    "\n",
    "        weights_2 = generateWeight([number_of_hidden_nodes, num_labels])\n",
    "        biases_2 = generateBias([num_labels])\n",
    "\n",
    "        logits = tf.matmul(layer_1_drop, weights_2) + biases_2\n",
    "        layer_2 = tf.nn.softmax_cross_entropy_with_logits(logits, tf_train_labels)\n",
    "        loss_2 = loss_coef * tf.nn.l2_loss(weights_2)\n",
    "        loss = tf.add(tf.reduce_mean(layer_2), tf.add(loss_1, loss_2))\n",
    "\n",
    "        # Training computation.\n",
    "        # logits = tf.matmul(tf_train_dataset, weights) + biases\n",
    "        # loss = tf.reduce_mean(\n",
    "        #     tf.nn.softmax_cross_entropy_with_logits(logits, tf_train_labels))\n",
    "\n",
    "        # Optimizer.\n",
    "        optimizer = tf.train.GradientDescentOptimizer(0.5).minimize(loss)\n",
    "\n",
    "        # Predictions for the training, validation, and test data.\n",
    "        train_prediction = tf.nn.softmax(logits)\n",
    "        layer_1_valid = tf.nn.relu(\n",
    "            tf.matmul(tf_valid_dataset, weights_1) + biases_1)\n",
    "        valid_logits = tf.matmul(layer_1_valid, weights_2) + biases_2\n",
    "        valid_prediction = tf.nn.softmax(valid_logits)\n",
    "        layer_1_test = tf.nn.relu(tf.matmul(tf_test_dataset, weights_1) + biases_1)\n",
    "        test_logits = tf.matmul(layer_1_test, weights_2) + biases_2\n",
    "        test_prediction = tf.nn.softmax(test_logits)\n",
    "\n",
    "    num_steps = 301\n",
    "\n",
    "    with tf.Session(graph=graph) as session:\n",
    "        tf.initialize_all_variables().run()\n",
    "        print(\"Initialized\",loss_coef)\n",
    "        for step in range(num_steps):\n",
    "            # Pick an offset within the training data, which has been randomized.\n",
    "            # Note: we could use better randomization across epochs.\n",
    "#           offset = (step * batch_size) % (train_labels.shape[0] - batch_size)\n",
    "            offset = (step * batch_size) % (train_size - batch_size)\n",
    "            # Generate a minibatch.\n",
    "            batch_data = train_dataset[offset:(offset + batch_size), :]\n",
    "            batch_labels = train_labels[offset:(offset + batch_size), :]\n",
    "            # Prepare a dictionary telling the session where to feed the minibatch.\n",
    "            # The key of the dictionary is the placeholder node of the graph to be fed,\n",
    "            # and the value is the numpy array to feed to it.\n",
    "            feed_dict = {tf_train_dataset : batch_data, tf_train_labels : batch_labels,keep_prob:.5}\n",
    "            _, l, predictions = session.run(\n",
    "              [optimizer, loss, train_prediction], feed_dict=feed_dict)\n",
    "            if (step % 300 == 0):\n",
    "                print(\"%2.1f:%2.1f\" %(accuracy(predictions, batch_labels),accuracy(valid_prediction.eval(feed_dict={keep_prob:1.0}), valid_labels)),end=\" | \")\n",
    "\n",
    "        print(\"\\nTest accuracy: %.1f%%\" % accuracy(test_prediction.eval(feed_dict={keep_prob:1.0}), test_labels))\n",
    "start=time()\n",
    "trainNetwork(1e-4)\n",
    "print('it took',time()-start)\n"
   ]
  },
  {
   "cell_type": "markdown",
   "metadata": {
    "colab_type": "text",
    "id": "-b1hTz3VWZjw"
   },
   "source": [
    "---\n",
    "Problem 4\n",
    "---------\n",
    "\n",
    "Try to get the best performance you can using a multi-layer model! The best reported test accuracy using a deep network is [97.1%](http://yaroslavvb.blogspot.com/2011/09/notmnist-dataset.html?showComment=1391023266211#c8758720086795711595).\n",
    "\n",
    "One avenue you can explore is to add multiple layers.\n",
    "\n",
    "Another one is to use learning rate decay:\n",
    "\n",
    "    global_step = tf.Variable(0)  # count the number of steps taken.\n",
    "    learning_rate = tf.train.exponential_decay(0.5, global_step, ...)\n",
    "    optimizer = tf.train.GradientDescentOptimizer(learning_rate).minimize(loss, global_step=global_step)\n",
    " \n",
    " ---\n"
   ]
  },
  {
   "cell_type": "code",
   "execution_count": 53,
   "metadata": {
    "collapsed": false
   },
   "outputs": [
    {
     "name": "stdout",
     "output_type": "stream",
     "text": [
      "Initialized 0.0001\n",
      "Minibatch loss, step 0: 4.292775 | 13.3:24.1\n",
      "Minibatch loss, step 1500: 0.584897 | 89.1:87.3\n",
      "Minibatch loss, step 3000: 0.377825 | 91.4:88.9\n",
      "Minibatch loss, step 4500: 0.534142 | 88.3:89.5\n",
      "Minibatch loss, step 6000: 0.454554 | 89.8:89.9\n",
      "Minibatch loss, step 7500: 0.523218 | 86.7:90.3\n",
      "Minibatch loss, step 9000: 0.620878 | 85.2:90.5\n",
      "Minibatch loss, step 10500: 0.444461 | 90.6:90.9\n",
      "Minibatch loss, step 12000: 0.421130 | 88.3:91.0\n",
      "Minibatch loss, step 13500: 0.437023 | 88.3:91.0\n",
      "Minibatch loss, step 15000: 0.303907 | 94.5:91.2\n",
      "\n",
      "Test accuracy: 95.8%\n",
      "it took 236.37441778182983\n"
     ]
    }
   ],
   "source": [
    "from time import time\n",
    "\n",
    "def trainNetwork(regularization_coef, num_steps, report_count=None, train_size=None):\n",
    "    if report_count is None:\n",
    "        report_count = num_steps // 10\n",
    "    if train_size is None:\n",
    "        train_size = train_labels.shape[0]\n",
    "    batch_size = 128\n",
    "\n",
    "    neuron_count_input = image_size * image_size\n",
    "    neuron_count_1 = 400\n",
    "    neuron_count_2 = 300\n",
    "    neuron_count_output = num_labels\n",
    "\n",
    "    graph = tf.Graph()\n",
    "    with graph.as_default():\n",
    "\n",
    "        # Input data. For the training data, we use a placeholder that will be fed\n",
    "        # at run time with a training minibatch.\n",
    "        keep_prob = tf.placeholder(tf.float32)\n",
    "        global_step = tf.Variable(0,trainable=False)\n",
    "        learning_rate = tf.train.exponential_decay(.5,global_step,report_count,.8)\n",
    "        tf_train_dataset = tf.placeholder(tf.float32,\n",
    "                                          shape=(None, neuron_count_input))\n",
    "        tf_train_labels = tf.placeholder(\n",
    "            tf.float32, shape=(None, num_labels))\n",
    "        tf_valid_dataset = tf.constant(valid_dataset)\n",
    "        tf_test_dataset = tf.constant(test_dataset)\n",
    "\n",
    "        # layer 1: from input to first hidden layer\n",
    "        weights_1 = generateWeight(\n",
    "            [neuron_count_input, neuron_count_1])\n",
    "        biases_1 = generateBias([neuron_count_1])\n",
    "\n",
    "        layer_1 = tf.nn.relu(tf.matmul(tf_train_dataset, weights_1) + biases_1)\n",
    "        layer_1_drop = tf.nn.dropout(layer_1, keep_prob)\n",
    "        loss_1 = regularization_coef * tf.nn.l2_loss(weights_1)\n",
    "\n",
    "        # layer 2: from first hidden layer to second\n",
    "        weights_2 = generateWeight([neuron_count_1, neuron_count_2])\n",
    "        biases_2 = generateBias([neuron_count_2])\n",
    "\n",
    "        layer_2 = tf.nn.relu(tf.matmul(layer_1, weights_2) + biases_2)\n",
    "        layer_2_drop = tf.nn.dropout(layer_2, keep_prob)\n",
    "        loss_2 = regularization_coef * tf.nn.l2_loss(weights_2)\n",
    "\n",
    "        # layer 3: from second hidden layer to softmax\n",
    "        weights_3 = generateWeight([neuron_count_2, neuron_count_output])\n",
    "        biases_3 = generateBias([neuron_count_output])\n",
    "        logits = tf.matmul(layer_2_drop, weights_3) + biases_3\n",
    "        output_error = tf.nn.softmax_cross_entropy_with_logits(\n",
    "            logits, tf_train_labels)\n",
    "        loss_3 = regularization_coef * tf.nn.l2_loss(weights_3)\n",
    "\n",
    "        # Optimizer.\n",
    "        model_output = tf.nn.softmax(logits)\n",
    "        corrects = tf.equal(tf.argmax(model_output, 1),\n",
    "                            tf.argmax(tf_train_labels, 1))\n",
    "        performance = tf.reduce_mean(tf.cast(corrects, \"float\"))*100\n",
    "        loss = tf.reduce_mean(output_error) + loss_1 + loss_2 + loss_3\n",
    "        optimizer = tf.train.GradientDescentOptimizer(learning_rate=learning_rate).minimize(loss,global_step=global_step)\n",
    "\n",
    "    with tf.Session(graph=graph) as session:\n",
    "        validation_dict = {tf_train_dataset: valid_dataset,\n",
    "                           tf_train_labels: valid_labels,\n",
    "                           keep_prob: 1.0}\n",
    "        test_dict = {tf_train_dataset: test_dataset,\n",
    "                     tf_train_labels: test_labels,\n",
    "                     keep_prob: 1.0}\n",
    "\n",
    "        tf.initialize_all_variables().run()\n",
    "        print(\"Initialized\", regularization_coef)\n",
    "        for step in range(num_steps):\n",
    "\n",
    "            # get random indices to generate minibatch.\n",
    "            random_indices = np.random.randint(train_size,size=batch_size)\n",
    "\n",
    "            # Prepare a dictionary telling the session where to feed the minibatch.\n",
    "            train_dict = {tf_train_dataset: train_dataset[random_indices],\n",
    "                          tf_train_labels: train_labels[random_indices],\n",
    "                          keep_prob: .5}\n",
    "\n",
    "            # Start the optimization\n",
    "            _,train_performance,loss_value = session.run([optimizer,performance,loss], feed_dict=train_dict)\n",
    "\n",
    "            # Generate report.\n",
    "            if (step % report_count == 0):\n",
    "                print(\"Minibatch loss, step %d: %f\" %\n",
    "                      (step, loss_value),end=\" | \")\n",
    "                valid_performance = performance.eval(feed_dict=validation_dict)\n",
    "                print(\"%2.1f:%2.1f\" % (train_performance, valid_performance))\n",
    "\n",
    "        test_accuracy = performance.eval(feed_dict=test_dict)\n",
    "        print(\"\\nTest accuracy: %.1f%%\" % test_accuracy)\n",
    "\n",
    "start=time()\n",
    "trainNetwork(1e-4, 15001)\n",
    "print(\"it took\",time()-start)"
   ]
  }
 ],
 "metadata": {
  "colab": {
   "default_view": {},
   "name": "3_regularization.ipynb",
   "provenance": [],
   "version": "0.3.2",
   "views": {}
  },
  "kernelspec": {
   "display_name": "Python 3",
   "language": "python",
   "name": "python3"
  },
  "language_info": {
   "codemirror_mode": {
    "name": "ipython",
    "version": 3
   },
   "file_extension": ".py",
   "mimetype": "text/x-python",
   "name": "python",
   "nbconvert_exporter": "python",
   "pygments_lexer": "ipython3",
   "version": "3.5.2"
  }
 },
 "nbformat": 4,
 "nbformat_minor": 0
}
