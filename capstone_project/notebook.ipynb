{
 "cells": [
  {
   "cell_type": "code",
   "execution_count": 10,
   "metadata": {
    "collapsed": false
   },
   "outputs": [],
   "source": [
    "import mnistFileReader as mf\n",
    "import numpy as np\n",
    "import MultiDigitNetwork as dn\n",
    "import importlib"
   ]
  },
  {
   "cell_type": "markdown",
   "metadata": {},
   "source": [
    "## loading files"
   ]
  },
  {
   "cell_type": "code",
   "execution_count": 3,
   "metadata": {
    "collapsed": false
   },
   "outputs": [
    {
     "name": "stdout",
     "output_type": "stream",
     "text": [
      "t10k-labels-idx1-ubyte already exists\n",
      "train-labels-idx1-ubyte already exists\n",
      "t10k-images-idx3-ubyte already exists\n",
      "train-images-idx3-ubyte already exists\n",
      "train-images-idx3-ubyte is a data file\n",
      "train-labels-idx1-ubyte is a lable file\n"
     ]
    }
   ],
   "source": [
    "files = [\"t10k-labels-idx1-ubyte\",\n",
    "         \"train-labels-idx1-ubyte\",\n",
    "         \"t10k-images-idx3-ubyte\",\n",
    "         \"train-images-idx3-ubyte\"]\n",
    "test_lable_file, train_label_file, test_data_file, train_data_file = files\n",
    "\n",
    "# download mnist files\n",
    "for file in files:\n",
    "    mf.maybeDownload(file)\n",
    "\n",
    "count = 20  # TODO: remove in future\n",
    "train_data = mf.parseMnistFile(train_data_file)[: count]\n",
    "train_labels = mf.parseMnistFile(train_label_file)[: count]"
   ]
  },
  {
   "cell_type": "code",
   "execution_count": 4,
   "metadata": {
    "collapsed": false
   },
   "outputs": [],
   "source": [
    "digit_length = np.random.randint(1, 4, size=20)\n",
    "images, labels = mf.multipleNumberRows(train_data, train_labels, digit_length)\n",
    "image = mf.insertImageArray(images[0], np.zeros((500, 900)))\n",
    "mf.showMultipleArraysHorizontally([image], [labels[0]], 1) # TODO: bring figures inside the notebook\n"
   ]
  },
  {
   "cell_type": "code",
   "execution_count": 46,
   "metadata": {
    "collapsed": false
   },
   "outputs": [
    {
     "name": "stdout",
     "output_type": "stream",
     "text": [
      "[8, 5]\n",
      "self.loss 3.92898\n",
      "Validation accuracy: 19.0%\n",
      "self.loss 1.3681\n",
      "Validation accuracy: 52.0%\n",
      "self.loss 1.45696\n",
      "Validation accuracy: 72.0%\n",
      "self.loss 1.14589\n",
      "Validation accuracy: 75.0%\n",
      "self.loss 0.650712\n",
      "Validation accuracy: 72.0%\n",
      "self.loss 0.840179\n",
      "Validation accuracy: 76.0%\n",
      "self.loss 1.1271\n",
      "Validation accuracy: 80.0%\n",
      "self.loss 1.02702\n",
      "Validation accuracy: 79.0%\n",
      "self.loss 0.967353\n",
      "Validation accuracy: 85.0%\n",
      "self.loss 0.664741\n",
      "Validation accuracy: 90.0%\n",
      "Test accuracy: 86.0%\n"
     ]
    }
   ],
   "source": [
    "importlib.reload(dn)\n",
    "network = dn.MnistTrainer()\n",
    "network.makeGraph()\n",
    "\n",
    "def dataMaker(batch_size):\n",
    "    digit_length=np.random.randint(0,5,size=batch_size)\n",
    "    batch_image,batch_labels = mf.fixedSizeMultipleNumberRows(train_data,train_labels,digit_length+1,5)\n",
    "    batch_image = mf.scaleData(np.expand_dims(batch_image,3),255)\n",
    "    return batch_image,mf.toOnehot(digit_length,5)\n",
    "\n",
    "validation_data,validation_labels=dataMaker(100)\n",
    "test_data,test_labels=dataMaker(100)\n",
    "# mf.showMultipleArraysHorizontally([test_data[i,0:28,0:140,0] for i in range(5)], test_labels,max_per_row=1)\n",
    "\n",
    "network.train(10000,dataMaker,100,100)"
   ]
  },
  {
   "cell_type": "code",
   "execution_count": null,
   "metadata": {
    "collapsed": true
   },
   "outputs": [],
   "source": []
  }
 ],
 "metadata": {
  "kernelspec": {
   "display_name": "Python 3",
   "language": "python",
   "name": "python3"
  },
  "language_info": {
   "codemirror_mode": {
    "name": "ipython",
    "version": 3
   },
   "file_extension": ".py",
   "mimetype": "text/x-python",
   "name": "python",
   "nbconvert_exporter": "python",
   "pygments_lexer": "ipython3",
   "version": "3.5.2"
  }
 },
 "nbformat": 4,
 "nbformat_minor": 0
}
