{
 "cells": [
  {
   "cell_type": "code",
   "execution_count": 1,
   "metadata": {
    "collapsed": true
   },
   "outputs": [],
   "source": [
    "import mnistFileReader as mf\n"
   ]
  },
  {
   "cell_type": "markdown",
   "metadata": {},
   "source": [
    "## loading files"
   ]
  },
  {
   "cell_type": "code",
   "execution_count": 3,
   "metadata": {
    "collapsed": false
   },
   "outputs": [
    {
     "name": "stdout",
     "output_type": "stream",
     "text": [
      "t10k-images-idx3-ubyte is a data file\n",
      "t10k-labels-idx1-ubyte is a lable file\n"
     ]
    }
   ],
   "source": [
    "files = [\"t10k-labels-idx1-ubyte\",\n",
    "         \"train-labels-idx1-ubyte\",\n",
    "         \"t10k-images-idx3-ubyte\",\n",
    "         \"train-images-idx3-ubyte\"]\n",
    "test_lable_file, train_label_file, test_data_file, train_data_file = files\n",
    "\n",
    "\n",
    "count = 20  # TODO: remove in future\n",
    "test_data = mf.parseMnistFile(test_data_file)[: count]\n",
    "test_labels = mf.parseMnistFile(test_lable_file)[: count]"
   ]
  }
 ],
 "metadata": {
  "kernelspec": {
   "display_name": "Python 3",
   "language": "python",
   "name": "python3"
  },
  "language_info": {
   "codemirror_mode": {
    "name": "ipython",
    "version": 3
   },
   "file_extension": ".py",
   "mimetype": "text/x-python",
   "name": "python",
   "nbconvert_exporter": "python",
   "pygments_lexer": "ipython3",
   "version": "3.5.2"
  }
 },
 "nbformat": 4,
 "nbformat_minor": 0
}
