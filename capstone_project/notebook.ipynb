{
 "cells": [
  {
   "cell_type": "code",
   "execution_count": 4,
   "metadata": {
    "collapsed": false
   },
   "outputs": [],
   "source": [
    "import mnistFileReader as mf\n",
    "import numpy as np\n",
    "import deepnet as dn\n",
    "import importlib"
   ]
  },
  {
   "cell_type": "markdown",
   "metadata": {},
   "source": [
    "## loading files"
   ]
  },
  {
   "cell_type": "code",
   "execution_count": 15,
   "metadata": {
    "collapsed": false
   },
   "outputs": [
    {
     "name": "stdout",
     "output_type": "stream",
     "text": [
      "t10k-labels-idx1-ubyte already exists\n",
      "train-labels-idx1-ubyte already exists\n",
      "t10k-images-idx3-ubyte already exists\n",
      "train-images-idx3-ubyte already exists\n",
      "train-images-idx3-ubyte is a data file\n",
      "train-labels-idx1-ubyte is a lable file\n"
     ]
    }
   ],
   "source": [
    "files = [\"t10k-labels-idx1-ubyte\",\n",
    "         \"train-labels-idx1-ubyte\",\n",
    "         \"t10k-images-idx3-ubyte\",\n",
    "         \"train-images-idx3-ubyte\"]\n",
    "test_lable_file, train_label_file, test_data_file, train_data_file = files\n",
    "\n",
    "# download mnist files\n",
    "for file in files:\n",
    "    mf.maybeDownload(file)\n",
    "\n",
    "count = 20  # TODO: remove in future\n",
    "train_data = mf.parseMnistFile(train_data_file)[: count]\n",
    "train_labels = mf.parseMnistFile(train_label_file)[: count]"
   ]
  },
  {
   "cell_type": "code",
   "execution_count": 11,
   "metadata": {
    "collapsed": false
   },
   "outputs": [],
   "source": [
    "digit_length = np.random.randint(1, 4, size=20)\n",
    "images, labels = mf.multipleNumberRows(train_data, train_labels, digit_length)\n",
    "image = mf.insertImageArray(images[0], np.zeros((500, 900)))\n",
    "mf.showMultipleArraysHorizontally([image], [labels[0]], 1) # TODO: bring figures inside the notebook\n"
   ]
  },
  {
   "cell_type": "code",
   "execution_count": 117,
   "metadata": {
    "collapsed": false
   },
   "outputs": [
    {
     "name": "stdout",
     "output_type": "stream",
     "text": [
      "(100, 28, 140, 1)\n",
      "loss 100580.0\n",
      "Validation accuracy: 18.0%\n",
      "loss 1.60944\n",
      "Validation accuracy: 20.0%\n",
      "loss 1.60944\n",
      "Validation accuracy: 16.0%\n",
      "loss 1.60944\n",
      "Validation accuracy: 22.0%\n",
      "loss 1.60944\n",
      "Validation accuracy: 28.0%\n",
      "loss 1.60944\n",
      "Validation accuracy: 26.0%\n",
      "loss 1.60944\n",
      "Validation accuracy: 30.0%\n",
      "loss 1.60944\n",
      "Validation accuracy: 14.0%\n",
      "loss 1.60944\n",
      "Validation accuracy: 16.0%\n",
      "loss 1.60944\n",
      "Validation accuracy: 28.0%\n",
      "Test accuracy: 20.0%\n"
     ]
    }
   ],
   "source": [
    "importlib.reload(dn)\n",
    "model_pack = dn.generateGraph(batch_size=8,\n",
    "                        patch_size=3,\n",
    "                        depth_1=4,\n",
    "                        depth_2=8,\n",
    "                        number_of_hidden=30,\n",
    "                        number_of_hidden_2=20)\n",
    "\n",
    "def dataMaker(batch_size):\n",
    "    digit_length=np.random.randint(0,5,size=batch_size)\n",
    "    batch_image,batch_labels = mf.fixedSizeMultipleNumberRows(train_data,train_labels,digit_length+1,5)\n",
    "    batch_image = np.expand_dims(batch_image,3)\n",
    "    return batch_image,mf.toOnehot(digit_length,5)\n",
    "\n",
    "validation_data,validation_labels=dataMaker(100)\n",
    "test_data,test_labels=dataMaker(100)\n",
    "print(test_data.shape)\n",
    "mf.showMultipleArraysHorizontally([test_data[i,0:28,0:140,0] for i in range(5)], test_labels,max_per_row=1)\n",
    "\n",
    "dn.onlineTrain(model_pack,\n",
    "               num_steps=1000,\n",
    "               generator=dataMaker,\n",
    "               validation_batches=50,\n",
    "               test_batches=100)"
   ]
  },
  {
   "cell_type": "code",
   "execution_count": null,
   "metadata": {
    "collapsed": true
   },
   "outputs": [],
   "source": []
  }
 ],
 "metadata": {
  "kernelspec": {
   "display_name": "Python 3",
   "language": "python",
   "name": "python3"
  },
  "language_info": {
   "codemirror_mode": {
    "name": "ipython",
    "version": 3
   },
   "file_extension": ".py",
   "mimetype": "text/x-python",
   "name": "python",
   "nbconvert_exporter": "python",
   "pygments_lexer": "ipython3",
   "version": "3.5.2"
  }
 },
 "nbformat": 4,
 "nbformat_minor": 0
}
